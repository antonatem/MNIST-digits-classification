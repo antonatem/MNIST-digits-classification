{
 "cells": [
  {
   "cell_type": "code",
   "execution_count": 65,
   "metadata": {},
   "outputs": [],
   "source": [
    "# Import libraries\n",
    "import tensorflow as tf\n",
    "import numpy as np\n",
    "from tensorflow import keras\n",
    "from sklearn import datasets\n",
    "from sklearn import neural_network\n",
    "from sklearn.model_selection import train_test_split\n",
    "from sklearn.metrics import accuracy_score\n",
    "import matplotlib.pyplot as plt"
   ]
  },
  {
   "cell_type": "markdown",
   "metadata": {},
   "source": [
    "# Make predictions using SKLearn"
   ]
  },
  {
   "cell_type": "code",
   "execution_count": 55,
   "metadata": {},
   "outputs": [],
   "source": [
    "# Load digits dataset\n",
    "load_dataset = datasets.load_digits()\n",
    "dataset = load_dataset.data\n",
    "target_names = load_dataset.target_names"
   ]
  },
  {
   "cell_type": "code",
   "execution_count": 56,
   "metadata": {},
   "outputs": [
    {
     "data": {
      "text/plain": [
       "(1437, 64)"
      ]
     },
     "execution_count": 56,
     "metadata": {},
     "output_type": "execute_result"
    }
   ],
   "source": [
    "# Split train and test dataset\n",
    "train_data, test_data, train_label, test_label = train_test_split(dataset, load_dataset.target, test_size=0.2)\n",
    "train_data.shape"
   ]
  },
  {
   "cell_type": "code",
   "execution_count": 57,
   "metadata": {},
   "outputs": [
    {
     "data": {
      "text/plain": [
       "MLPClassifier()"
      ]
     },
     "execution_count": 57,
     "metadata": {},
     "output_type": "execute_result"
    }
   ],
   "source": [
    "# Create model\n",
    "model = neural_network.MLPClassifier()\n",
    "model.fit(train_data, train_label)"
   ]
  },
  {
   "cell_type": "code",
   "execution_count": 58,
   "metadata": {},
   "outputs": [
    {
     "name": "stdout",
     "output_type": "stream",
     "text": [
      "Prediction: 3 Actual: 3\n",
      "Prediction: 8 Actual: 8\n",
      "Prediction: 6 Actual: 6\n",
      "Prediction: 7 Actual: 7\n",
      "Prediction: 1 Actual: 1\n"
     ]
    }
   ],
   "source": [
    "# Make predictions on test data\n",
    "prediction = model.predict(test_data)\n",
    "\n",
    "for i in range(5):\n",
    "    print(\"Prediction: {} Actual: {}\".format(prediction[i], test_label[i]))"
   ]
  },
  {
   "cell_type": "code",
   "execution_count": 12,
   "metadata": {},
   "outputs": [
    {
     "data": {
      "text/plain": [
       "97.77777777777777"
      ]
     },
     "execution_count": 12,
     "metadata": {},
     "output_type": "execute_result"
    }
   ],
   "source": [
    "# Calculate accuracy score\n",
    "accuracy_score(test_label, prediction) * 100"
   ]
  },
  {
   "cell_type": "markdown",
   "metadata": {},
   "source": [
    "# Make predictions using Tensorflow"
   ]
  },
  {
   "cell_type": "code",
   "execution_count": 59,
   "metadata": {},
   "outputs": [
    {
     "data": {
      "text/plain": [
       "(1797, 64)"
      ]
     },
     "execution_count": 59,
     "metadata": {},
     "output_type": "execute_result"
    }
   ],
   "source": [
    "# Load digits dataset from keras datasets\n",
    "loaded_dataset = keras.datasets.mnist.load_data()\n",
    "data = load_dataset.data\n",
    "target = load_dataset.target\n",
    "data.shape"
   ]
  },
  {
   "cell_type": "code",
   "execution_count": 60,
   "metadata": {},
   "outputs": [],
   "source": [
    "# Split data to train and test sets\n",
    "train_data = data[:1200]\n",
    "test_data = data[1200:]\n",
    "\n",
    "train_targets = target[:1200]\n",
    "test_targets = target[1200:]"
   ]
  },
  {
   "cell_type": "code",
   "execution_count": 61,
   "metadata": {},
   "outputs": [
    {
     "name": "stdout",
     "output_type": "stream",
     "text": [
      "Model: \"sequential_13\"\n",
      "_________________________________________________________________\n",
      "Layer (type)                 Output Shape              Param #   \n",
      "=================================================================\n",
      "flatten_4 (Flatten)          (None, 64)                0         \n",
      "_________________________________________________________________\n",
      "dense_35 (Dense)             (None, 64)                4160      \n",
      "_________________________________________________________________\n",
      "dense_36 (Dense)             (None, 10)                650       \n",
      "=================================================================\n",
      "Total params: 4,810\n",
      "Trainable params: 4,810\n",
      "Non-trainable params: 0\n",
      "_________________________________________________________________\n"
     ]
    }
   ],
   "source": [
    "# Create and compile model\n",
    "model = keras.Sequential([\n",
    "    keras.layers.Flatten(input_shape=(len(load_dataset.feature_names),)),\n",
    "    keras.layers.Dense(64, activation='relu'),\n",
    "    keras.layers.Dense(10, activation='softmax')\n",
    "])\n",
    "\n",
    "model.compile(loss='sparse_categorical_crossentropy', optimizer=keras.optimizers.Adam(0.001), metrics=['accuracy'])\n",
    "model.summary()"
   ]
  },
  {
   "cell_type": "code",
   "execution_count": 62,
   "metadata": {},
   "outputs": [
    {
     "name": "stdout",
     "output_type": "stream",
     "text": [
      "Epoch 1/10\n",
      "30/30 - 0s - loss: 4.5059 - accuracy: 0.2094 - val_loss: 2.5570 - val_accuracy: 0.3375\n",
      "Epoch 2/10\n",
      "30/30 - 0s - loss: 1.4725 - accuracy: 0.5625 - val_loss: 1.2525 - val_accuracy: 0.5917\n",
      "Epoch 3/10\n",
      "30/30 - 0s - loss: 0.7214 - accuracy: 0.7719 - val_loss: 0.8297 - val_accuracy: 0.7000\n",
      "Epoch 4/10\n",
      "30/30 - 0s - loss: 0.4478 - accuracy: 0.8510 - val_loss: 0.5644 - val_accuracy: 0.8083\n",
      "Epoch 5/10\n",
      "30/30 - 0s - loss: 0.3192 - accuracy: 0.8979 - val_loss: 0.4710 - val_accuracy: 0.8542\n",
      "Epoch 6/10\n",
      "30/30 - 0s - loss: 0.2370 - accuracy: 0.9240 - val_loss: 0.3999 - val_accuracy: 0.8500\n",
      "Epoch 7/10\n",
      "30/30 - 0s - loss: 0.1822 - accuracy: 0.9458 - val_loss: 0.3727 - val_accuracy: 0.8708\n",
      "Epoch 8/10\n",
      "30/30 - 0s - loss: 0.1477 - accuracy: 0.9615 - val_loss: 0.3435 - val_accuracy: 0.8833\n",
      "Epoch 9/10\n",
      "30/30 - 0s - loss: 0.1221 - accuracy: 0.9646 - val_loss: 0.3090 - val_accuracy: 0.8917\n",
      "Epoch 10/10\n",
      "30/30 - 0s - loss: 0.1056 - accuracy: 0.9708 - val_loss: 0.3047 - val_accuracy: 0.8833\n"
     ]
    }
   ],
   "source": [
    "# Train model\n",
    "history = model.fit(train_data, train_targets, epochs=10, validation_split=0.2, verbose=2)"
   ]
  },
  {
   "cell_type": "code",
   "execution_count": 64,
   "metadata": {},
   "outputs": [
    {
     "name": "stdout",
     "output_type": "stream",
     "text": [
      "Prediction: 7 Actual: 7\n",
      "Prediction: 7 Actual: 7\n",
      "Prediction: 3 Actual: 3\n",
      "Prediction: 5 Actual: 5\n",
      "Prediction: 1 Actual: 1\n"
     ]
    }
   ],
   "source": [
    "# Make predictions on test data\n",
    "prediction = model.predict(test_data)\n",
    "\n",
    "for i in range(5):\n",
    "    print(\"Prediction: {} Actual: {}\".format(np.argmax(prediction[i]), test_targets[i]))"
   ]
  },
  {
   "cell_type": "code",
   "execution_count": 69,
   "metadata": {},
   "outputs": [
    {
     "name": "stdout",
     "output_type": "stream",
     "text": [
      "19/19 [==============================] - 0s 975us/step - loss: 0.4356 - accuracy: 0.8827\n",
      "0.8827470541000366\n"
     ]
    }
   ],
   "source": [
    "# Check models accuracy\n",
    "loss, accuracy = model.evaluate(test_data, test_targets)\n",
    "print(accuracy)"
   ]
  }
 ],
 "metadata": {
  "kernelspec": {
   "display_name": "Python 3",
   "language": "python",
   "name": "python3"
  },
  "language_info": {
   "codemirror_mode": {
    "name": "ipython",
    "version": 3
   },
   "file_extension": ".py",
   "mimetype": "text/x-python",
   "name": "python",
   "nbconvert_exporter": "python",
   "pygments_lexer": "ipython3",
   "version": "3.8.2"
  }
 },
 "nbformat": 4,
 "nbformat_minor": 4
}
