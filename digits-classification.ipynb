{
 "cells": [
  {
   "cell_type": "code",
   "execution_count": 1,
   "metadata": {},
   "outputs": [],
   "source": [
    "# Import libraries\n",
    "import tensorflow as tf\n",
    "import numpy as np\n",
    "from tensorflow import keras\n",
    "from sklearn import datasets\n",
    "from sklearn import neural_network\n",
    "from sklearn.model_selection import train_test_split\n",
    "from sklearn.metrics import accuracy_score\n",
    "import matplotlib.pyplot as plt"
   ]
  },
  {
   "cell_type": "markdown",
   "metadata": {},
   "source": [
    "# Make predictions using SKLearn"
   ]
  },
  {
   "cell_type": "code",
   "execution_count": 55,
   "metadata": {},
   "outputs": [],
   "source": [
    "# Load digits dataset\n",
    "load_dataset = datasets.load_digits()\n",
    "dataset = load_dataset.data\n",
    "target_names = load_dataset.target_names"
   ]
  },
  {
   "cell_type": "code",
   "execution_count": 56,
   "metadata": {},
   "outputs": [
    {
     "data": {
      "text/plain": [
       "(1437, 64)"
      ]
     },
     "execution_count": 56,
     "metadata": {},
     "output_type": "execute_result"
    }
   ],
   "source": [
    "# Split train and test dataset\n",
    "train_data, test_data, train_label, test_label = train_test_split(dataset, load_dataset.target, test_size=0.2)\n",
    "train_data.shape"
   ]
  },
  {
   "cell_type": "code",
   "execution_count": 57,
   "metadata": {},
   "outputs": [
    {
     "data": {
      "text/plain": [
       "MLPClassifier()"
      ]
     },
     "execution_count": 57,
     "metadata": {},
     "output_type": "execute_result"
    }
   ],
   "source": [
    "# Create model\n",
    "model = neural_network.MLPClassifier()\n",
    "model.fit(train_data, train_label)"
   ]
  },
  {
   "cell_type": "code",
   "execution_count": 58,
   "metadata": {},
   "outputs": [
    {
     "name": "stdout",
     "output_type": "stream",
     "text": [
      "Prediction: 3 Actual: 3\n",
      "Prediction: 8 Actual: 8\n",
      "Prediction: 6 Actual: 6\n",
      "Prediction: 7 Actual: 7\n",
      "Prediction: 1 Actual: 1\n"
     ]
    }
   ],
   "source": [
    "# Make predictions on test data\n",
    "prediction = model.predict(test_data)\n",
    "\n",
    "for i in range(5):\n",
    "    print(\"Prediction: {} Actual: {}\".format(prediction[i], test_label[i]))"
   ]
  },
  {
   "cell_type": "code",
   "execution_count": 12,
   "metadata": {},
   "outputs": [
    {
     "data": {
      "text/plain": [
       "97.77777777777777"
      ]
     },
     "execution_count": 12,
     "metadata": {},
     "output_type": "execute_result"
    }
   ],
   "source": [
    "# Calculate accuracy score\n",
    "accuracy_score(test_label, prediction) * 100"
   ]
  },
  {
   "cell_type": "markdown",
   "metadata": {},
   "source": [
    "# Make predictions using Tensorflow"
   ]
  },
  {
   "cell_type": "code",
   "execution_count": 30,
   "metadata": {},
   "outputs": [
    {
     "data": {
      "text/plain": [
       "<matplotlib.image.AxesImage at 0x13a881640>"
      ]
     },
     "execution_count": 30,
     "metadata": {},
     "output_type": "execute_result"
    },
    {
     "data": {
      "image/png": "[encoded data removed]",
      "text/plain": [
       "<Figure size 432x288 with 1 Axes>"
      ]
     },
     "metadata": {
      "needs_background": "light"
     },
     "output_type": "display_data"
    }
   ],
   "source": [
    "# Load digits dataset from keras datasets\n",
    "(train_data, train_targets), (test_data, test_targets) = keras.datasets.mnist.load_data()\n",
    "plt.imshow(train_data[5])"
   ]
  },
  {
   "cell_type": "code",
   "execution_count": 29,
   "metadata": {},
   "outputs": [
    {
     "data": {
      "text/plain": [
       "(60000, 28, 28)"
      ]
     },
     "execution_count": 29,
     "metadata": {},
     "output_type": "execute_result"
    }
   ],
   "source": [
    "train_data.shape"
   ]
  },
  {
   "cell_type": "code",
   "execution_count": 24,
   "metadata": {},
   "outputs": [
    {
     "name": "stdout",
     "output_type": "stream",
     "text": [
      "Model: \"sequential_4\"\n",
      "_________________________________________________________________\n",
      "Layer (type)                 Output Shape              Param #   \n",
      "=================================================================\n",
      "flatten_4 (Flatten)          (None, 784)               0         \n",
      "_________________________________________________________________\n",
      "dense_8 (Dense)              (None, 64)                50240     \n",
      "_________________________________________________________________\n",
      "dense_9 (Dense)              (None, 10)                650       \n",
      "=================================================================\n",
      "Total params: 50,890\n",
      "Trainable params: 50,890\n",
      "Non-trainable params: 0\n",
      "_________________________________________________________________\n"
     ]
    }
   ],
   "source": [
    "# Create and compile model\n",
    "model = keras.Sequential([\n",
    "    keras.layers.Flatten(input_shape=(train_data.shape[1:])),\n",
    "    keras.layers.Dense(64, activation='relu'),\n",
    "    keras.layers.Dense(10, activation='softmax')\n",
    "])\n",
    "\n",
    "model.compile(loss='sparse_categorical_crossentropy', optimizer=keras.optimizers.Adam(0.001), metrics=['accuracy'])\n",
    "model.summary()"
   ]
  },
  {
   "cell_type": "code",
   "execution_count": 25,
   "metadata": {},
   "outputs": [
    {
     "name": "stdout",
     "output_type": "stream",
     "text": [
      "Epoch 1/20\n",
      "1500/1500 - 2s - loss: 2.7790 - accuracy: 0.7958 - val_loss: 0.6465 - val_accuracy: 0.8604\n",
      "Epoch 2/20\n",
      "1500/1500 - 1s - loss: 0.5457 - accuracy: 0.8706 - val_loss: 0.4461 - val_accuracy: 0.8965\n",
      "Epoch 3/20\n",
      "1500/1500 - 1s - loss: 0.3816 - accuracy: 0.9025 - val_loss: 0.3989 - val_accuracy: 0.9123\n",
      "Epoch 4/20\n",
      "1500/1500 - 1s - loss: 0.3179 - accuracy: 0.9191 - val_loss: 0.3101 - val_accuracy: 0.9206\n",
      "Epoch 5/20\n",
      "1500/1500 - 1s - loss: 0.2800 - accuracy: 0.9267 - val_loss: 0.2854 - val_accuracy: 0.9269\n",
      "Epoch 6/20\n",
      "1500/1500 - 1s - loss: 0.2488 - accuracy: 0.9349 - val_loss: 0.2857 - val_accuracy: 0.9276\n",
      "Epoch 7/20\n",
      "1500/1500 - 1s - loss: 0.2327 - accuracy: 0.9364 - val_loss: 0.3372 - val_accuracy: 0.9236\n",
      "Epoch 8/20\n",
      "1500/1500 - 2s - loss: 0.2185 - accuracy: 0.9415 - val_loss: 0.2522 - val_accuracy: 0.9381\n",
      "Epoch 9/20\n",
      "1500/1500 - 1s - loss: 0.2100 - accuracy: 0.9431 - val_loss: 0.2899 - val_accuracy: 0.9411\n",
      "Epoch 10/20\n",
      "1500/1500 - 1s - loss: 0.2026 - accuracy: 0.9454 - val_loss: 0.2609 - val_accuracy: 0.9418\n",
      "Epoch 11/20\n",
      "1500/1500 - 1s - loss: 0.1982 - accuracy: 0.9471 - val_loss: 0.2833 - val_accuracy: 0.9403\n",
      "Epoch 12/20\n",
      "1500/1500 - 2s - loss: 0.1949 - accuracy: 0.9480 - val_loss: 0.2941 - val_accuracy: 0.9362\n",
      "Epoch 13/20\n",
      "1500/1500 - 2s - loss: 0.1906 - accuracy: 0.9485 - val_loss: 0.2542 - val_accuracy: 0.9424\n",
      "Epoch 14/20\n",
      "1500/1500 - 1s - loss: 0.1871 - accuracy: 0.9507 - val_loss: 0.2878 - val_accuracy: 0.9362\n",
      "Epoch 15/20\n",
      "1500/1500 - 1s - loss: 0.1767 - accuracy: 0.9530 - val_loss: 0.3167 - val_accuracy: 0.9381\n",
      "Epoch 16/20\n",
      "1500/1500 - 1s - loss: 0.1795 - accuracy: 0.9524 - val_loss: 0.3095 - val_accuracy: 0.9379\n",
      "Epoch 17/20\n",
      "1500/1500 - 1s - loss: 0.1764 - accuracy: 0.9534 - val_loss: 0.2916 - val_accuracy: 0.9433\n",
      "Epoch 18/20\n",
      "1500/1500 - 1s - loss: 0.1721 - accuracy: 0.9544 - val_loss: 0.3176 - val_accuracy: 0.9348\n",
      "Epoch 19/20\n",
      "1500/1500 - 1s - loss: 0.1686 - accuracy: 0.9556 - val_loss: 0.3497 - val_accuracy: 0.9373\n",
      "Epoch 20/20\n",
      "1500/1500 - 2s - loss: 0.1716 - accuracy: 0.9551 - val_loss: 0.3257 - val_accuracy: 0.9383\n"
     ]
    }
   ],
   "source": [
    "# Train model\n",
    "history = model.fit(train_data, train_targets, epochs=20, validation_split=0.2, verbose=2)"
   ]
  },
  {
   "cell_type": "code",
   "execution_count": 26,
   "metadata": {},
   "outputs": [
    {
     "data": {
      "image/png": "[encoded data removed]",
      "text/plain": [
       "<Figure size 432x288 with 1 Axes>"
      ]
     },
     "metadata": {
      "needs_background": "light"
     },
     "output_type": "display_data"
    }
   ],
   "source": [
    "# Plot loss curve\n",
    "plt.figure()\n",
    "plt.plot(history.epoch, history.history['loss'], label='Loss')\n",
    "plt.ylabel(\"Loss\")\n",
    "plt.xlabel(\"Epochs\")\n",
    "plt.show()"
   ]
  },
  {
   "cell_type": "code",
   "execution_count": 27,
   "metadata": {},
   "outputs": [
    {
     "name": "stdout",
     "output_type": "stream",
     "text": [
      "Prediction: 7 Actual: 7\n",
      "Prediction: 2 Actual: 2\n",
      "Prediction: 1 Actual: 1\n",
      "Prediction: 0 Actual: 0\n",
      "Prediction: 4 Actual: 4\n"
     ]
    }
   ],
   "source": [
    "# Make predictions on test data\n",
    "prediction = model.predict(test_data)\n",
    "\n",
    "for i in range(5):\n",
    "    print(\"Prediction: {} Actual: {}\".format(np.argmax(prediction[i]), test_targets[i]))"
   ]
  },
  {
   "cell_type": "code",
   "execution_count": 28,
   "metadata": {},
   "outputs": [
    {
     "name": "stdout",
     "output_type": "stream",
     "text": [
      "313/313 [==============================] - 0s 1ms/step - loss: 0.3412 - accuracy: 0.9379\n",
      "0.9379000067710876\n"
     ]
    }
   ],
   "source": [
    "# Check models accuracy\n",
    "loss, accuracy = model.evaluate(test_data, test_targets)\n",
    "print(accuracy)"
   ]
  }
 ],
 "metadata": {
  "kernelspec": {
   "display_name": "Python 3",
   "language": "python",
   "name": "python3"
  },
  "language_info": {
   "codemirror_mode": {
    "name": "ipython",
    "version": 3
   },
   "file_extension": ".py",
   "mimetype": "text/x-python",
   "name": "python",
   "nbconvert_exporter": "python",
   "pygments_lexer": "ipython3",
   "version": "3.8.2"
  }
 },
 "nbformat": 4,
 "nbformat_minor": 4
}
