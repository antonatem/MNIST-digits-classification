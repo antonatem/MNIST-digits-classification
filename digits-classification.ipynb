{
 "cells": [
  {
   "cell_type": "code",
   "execution_count": 2,
   "metadata": {},
   "outputs": [],
   "source": [
    "# Import libraries\n",
    "import tensorflow as tf\n",
    "from tensorflow import keras\n",
    "from sklearn import datasets\n",
    "from sklearn import neural_network\n",
    "from sklearn.model_selection import train_test_split\n",
    "from sklearn.metrics import accuracy_score"
   ]
  },
  {
   "cell_type": "markdown",
   "metadata": {},
   "source": [
    "# Make predictions using SKLearn"
   ]
  },
  {
   "cell_type": "code",
   "execution_count": 3,
   "metadata": {},
   "outputs": [],
   "source": [
    "# Load digits dataset\n",
    "load_dataset = datasets.load_digits()\n",
    "dataset = load_dataset.data\n",
    "target_names = load_dataset.target_names"
   ]
  },
  {
   "cell_type": "code",
   "execution_count": 6,
   "metadata": {},
   "outputs": [
    {
     "data": {
      "text/plain": [
       "(1437, 64)"
      ]
     },
     "execution_count": 6,
     "metadata": {},
     "output_type": "execute_result"
    }
   ],
   "source": [
    "# Split train and test dataset\n",
    "train_data, test_data, train_label, test_label = train_test_split(dataset, load_dataset.target, test_size=0.2)\n",
    "train_data.shape"
   ]
  },
  {
   "cell_type": "code",
   "execution_count": 7,
   "metadata": {},
   "outputs": [
    {
     "data": {
      "text/plain": [
       "MLPClassifier()"
      ]
     },
     "execution_count": 7,
     "metadata": {},
     "output_type": "execute_result"
    }
   ],
   "source": [
    "# Create model\n",
    "model = neural_network.MLPClassifier()\n",
    "model.fit(train_data, train_label)"
   ]
  },
  {
   "cell_type": "code",
   "execution_count": 11,
   "metadata": {},
   "outputs": [
    {
     "name": "stdout",
     "output_type": "stream",
     "text": [
      "Prediction: 7 Actual: 0\n",
      "Prediction: 7 Actual: 1\n",
      "Prediction: 2 Actual: 2\n",
      "Prediction: 5 Actual: 3\n",
      "Prediction: 4 Actual: 4\n"
     ]
    }
   ],
   "source": [
    "# Make predictions on test data\n",
    "prediction = model.predict(test_data)\n",
    "actual = load_dataset.target\n",
    "\n",
    "for i in range(5):\n",
    "    print(\"Prediction: {} Actual: {}\".format(prediction[i], actual[i]))"
   ]
  },
  {
   "cell_type": "code",
   "execution_count": 12,
   "metadata": {},
   "outputs": [
    {
     "data": {
      "text/plain": [
       "97.77777777777777"
      ]
     },
     "execution_count": 12,
     "metadata": {},
     "output_type": "execute_result"
    }
   ],
   "source": [
    "# Calculate accuracy score\n",
    "accuracy_score(test_label, prediction) * 100"
   ]
  },
  {
   "cell_type": "markdown",
   "metadata": {},
   "source": [
    "# Make predictions using Tensorflow"
   ]
  },
  {
   "cell_type": "code",
   "execution_count": 16,
   "metadata": {},
   "outputs": [
    {
     "data": {
      "text/plain": [
       "(1797, 64)"
      ]
     },
     "execution_count": 16,
     "metadata": {},
     "output_type": "execute_result"
    }
   ],
   "source": [
    "# Load digits dataset from keras datasets\n",
    "loaded_dataset = keras.datasets.mnist.load_data()\n",
    "data = load_dataset.data\n",
    "target = load_dataset.target\n",
    "data.shape"
   ]
  },
  {
   "cell_type": "code",
   "execution_count": 21,
   "metadata": {},
   "outputs": [],
   "source": [
    "# Split data to train and test sets\n",
    "train_data = data[:1200]\n",
    "test_data = data[1200:]\n",
    "\n",
    "train_targets = target[:1200]\n",
    "test_targets = target[1200:]"
   ]
  },
  {
   "cell_type": "code",
   "execution_count": 44,
   "metadata": {},
   "outputs": [
    {
     "name": "stdout",
     "output_type": "stream",
     "text": [
      "Model: \"sequential_12\"\n",
      "_________________________________________________________________\n",
      "Layer (type)                 Output Shape              Param #   \n",
      "=================================================================\n",
      "flatten_3 (Flatten)          (None, 64)                0         \n",
      "_________________________________________________________________\n",
      "dense_33 (Dense)             (None, 64)                4160      \n",
      "_________________________________________________________________\n",
      "dense_34 (Dense)             (None, 10)                650       \n",
      "=================================================================\n",
      "Total params: 4,810\n",
      "Trainable params: 4,810\n",
      "Non-trainable params: 0\n",
      "_________________________________________________________________\n"
     ]
    }
   ],
   "source": [
    "# Create and compile model\n",
    "model = keras.Sequential([\n",
    "    keras.layers.Flatten(input_shape=(len(load_dataset.feature_names),)),\n",
    "    keras.layers.Dense(64, activation='relu'),\n",
    "    keras.layers.Dense(10, activation='softmax')\n",
    "])\n",
    "\n",
    "model.compile(loss='sparse_categorical_crossentropy', optimizer=keras.optimizers.Adam(0.001), metrics=['accuracy'])\n",
    "model.summary()"
   ]
  },
  {
   "cell_type": "code",
   "execution_count": 45,
   "metadata": {},
   "outputs": [
    {
     "name": "stdout",
     "output_type": "stream",
     "text": [
      "Epoch 1/10\n",
      "30/30 - 0s - loss: 6.4349 - accuracy: 0.1437 - val_loss: 2.6457 - val_accuracy: 0.2750\n",
      "Epoch 2/10\n",
      "30/30 - 0s - loss: 1.6438 - accuracy: 0.5042 - val_loss: 1.0107 - val_accuracy: 0.7083\n",
      "Epoch 3/10\n",
      "30/30 - 0s - loss: 0.6540 - accuracy: 0.7833 - val_loss: 0.6279 - val_accuracy: 0.8000\n",
      "Epoch 4/10\n",
      "30/30 - 0s - loss: 0.3869 - accuracy: 0.8813 - val_loss: 0.4801 - val_accuracy: 0.8458\n",
      "Epoch 5/10\n",
      "30/30 - 0s - loss: 0.2690 - accuracy: 0.9240 - val_loss: 0.3860 - val_accuracy: 0.8958\n",
      "Epoch 6/10\n",
      "30/30 - 0s - loss: 0.2083 - accuracy: 0.9385 - val_loss: 0.3390 - val_accuracy: 0.9125\n",
      "Epoch 7/10\n",
      "30/30 - 0s - loss: 0.1665 - accuracy: 0.9542 - val_loss: 0.3224 - val_accuracy: 0.9083\n",
      "Epoch 8/10\n",
      "30/30 - 0s - loss: 0.1407 - accuracy: 0.9656 - val_loss: 0.2917 - val_accuracy: 0.9083\n",
      "Epoch 9/10\n",
      "30/30 - 0s - loss: 0.1209 - accuracy: 0.9667 - val_loss: 0.2757 - val_accuracy: 0.9208\n",
      "Epoch 10/10\n",
      "30/30 - 0s - loss: 0.0996 - accuracy: 0.9729 - val_loss: 0.2473 - val_accuracy: 0.9250\n"
     ]
    }
   ],
   "source": [
    "# Train model\n",
    "history = model.fit(train_data, train_targets, epochs=10, validation_split=0.2, verbose=2)"
   ]
  }
 ],
 "metadata": {
  "kernelspec": {
   "display_name": "Python 3",
   "language": "python",
   "name": "python3"
  },
  "language_info": {
   "codemirror_mode": {
    "name": "ipython",
    "version": 3
   },
   "file_extension": ".py",
   "mimetype": "text/x-python",
   "name": "python",
   "nbconvert_exporter": "python",
   "pygments_lexer": "ipython3",
   "version": "3.8.2"
  }
 },
 "nbformat": 4,
 "nbformat_minor": 4
}
